{
 "cells": [
  {
   "cell_type": "code",
   "execution_count": null,
   "id": "f20744b7-a8ca-4286-8daa-a3267cede7b7",
   "metadata": {},
   "outputs": [],
   "source": [
    "%load_ext autoreload\n",
    "%autoreload 2\n",
    "\n",
    "import torch\n",
    "from torch.utils.data import DataLoader\n",
    "from dataset import MatterportDataset, display_sample, collate_fn\n",
    "import matplotlib.pyplot as plt\n",
    "\n",
    "poses = torch.randn((10, 5))\n",
    "poses[:, 2] = 0 # height is the camera height (1.5m)\n",
    "poses[:, 4] = 0.2 # elevation example"
   ]
  },
  {
   "cell_type": "code",
   "execution_count": null,
   "id": "54ae4784-33a4-4112-93b7-d92c75554963",
   "metadata": {},
   "outputs": [],
   "source": [
    "# we can have only one execution of the simulator per process\n",
    "if \"dataset\" in locals():\n",
    "    dataset.close()\n",
    "    \n",
    "dataset = MatterportDataset(\n",
    "    scene_filepaths=\"data/mp3d/17DRP5sb8fy/17DRP5sb8fy.glb\",\n",
    "    poses=poses.tolist(),\n",
    ")\n",
    "\n",
    "x = dataset[0]\n",
    "\n",
    "plt.imshow(x[\"image\"].long())\n",
    "print(f\"Object labels in sample\")\n",
    "for obj in x[\"object_labels\"].long().tolist():\n",
    "    print(dataset.object_names.index2word(obj))\n",
    "\n",
    "print(f\"\\nRoom labels in sample\")\n",
    "for room in x[\"room_types\"].long().tolist():\n",
    "    print(dataset.room_names.index2word(room))"
   ]
  },
  {
   "cell_type": "code",
   "execution_count": null,
   "id": "2bfb4c2d",
   "metadata": {},
   "outputs": [],
   "source": [
    "# we can have only one execution of the simulator per process\n",
    "if \"dataset\" in locals():\n",
    "    dataset.close()\n",
    "    \n",
    "dataset = MatterportDataset(\n",
    "    scene_filepaths=\"data/mp3d/17DRP5sb8fy/17DRP5sb8fy.glb\",\n",
    "    poses=poses.tolist(),\n",
    ")\n",
    "\n",
    "dataloader = DataLoader(\n",
    "    dataset, num_workers=2, shuffle=True, collate_fn=collate_fn, batch_size=2\n",
    ")\n",
    "\n",
    "sample = next(iter(dataloader))\n",
    "\n"
   ]
  }
 ],
 "metadata": {
  "kernelspec": {
   "display_name": "Python 3",
   "language": "python",
   "name": "python3"
  },
  "language_info": {
   "codemirror_mode": {
    "name": "ipython",
    "version": 3
   },
   "file_extension": ".py",
   "mimetype": "text/x-python",
   "name": "python",
   "nbconvert_exporter": "python",
   "pygments_lexer": "ipython3",
   "version": "3.6.13"
  }
 },
 "nbformat": 4,
 "nbformat_minor": 5
}
