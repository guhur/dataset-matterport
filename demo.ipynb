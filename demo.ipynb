{
 "cells": [
  {
   "cell_type": "code",
   "execution_count": null,
   "id": "58cef4b9-03af-4bda-8c96-b81aeff4ff62",
   "metadata": {},
   "outputs": [],
   "source": [
    "%load_ext autoreload\n",
    "%autoreload 2\n",
    "\n",
    "import torch\n",
    "from torch.utils.data import DataLoader\n",
    "from dataset import MatterportDataset, display_sample, collate_fn\n",
    "import matplotlib.pyplot as plt\n",
    "\n",
    "poses = torch.zeros((10, 5))\n",
    "poses[:, 0] = 0.5\n",
    "poses[:, 1] = 0.5\n",
    "poses[:, 2] = 0 # height is the camera height (1.5m)\n",
    "poses[:, 3] = torch.arange(-1.57, 1.57, 3.14/10)"
   ]
  },
  {
   "cell_type": "code",
   "execution_count": null,
   "id": "54ae4784-33a4-4112-93b7-d92c75554963",
   "metadata": {},
   "outputs": [],
   "source": [
    "# we can have only one execution of the simulator per process\n",
    "if \"dataset\" in locals():\n",
    "    dataset.close()\n",
    "    \n",
    "dataset = MatterportDataset(\n",
    "    scene_filepaths=\"data/mp3d/17DRP5sb8fy/17DRP5sb8fy.glb\",\n",
    "    poses=poses.tolist(),\n",
    ")\n",
    "\n",
    "x = dataset[0]\n",
    "\n",
    "plt.imshow(x[\"image\"].long())\n",
    "print(f\"Object labels in sample\")\n",
    "for obj in x[\"object_labels\"].long().tolist():\n",
    "    print(dataset.object_names.index2word(obj))\n",
    "\n",
    "print(f\"\\nRoom labels in sample\")\n",
    "for room in x[\"room_types\"].long().tolist():\n",
    "    print(dataset.room_names.index2word(room))"
   ]
  },
  {
   "cell_type": "code",
   "execution_count": null,
   "id": "4f5248b4-3204-46b4-93d7-ca4153d2b722",
   "metadata": {},
   "outputs": [],
   "source": [
    "# we can have only one execution of the simulator per process\n",
    "if \"dataset\" in locals():\n",
    "    dataset.close()\n",
    "    \n",
    "dataset = MatterportDataset(\n",
    "    scene_filepaths=\"data/mp3d/17DRP5sb8fy/17DRP5sb8fy.glb\",\n",
    "    poses=poses.tolist(),\n",
    ")\n",
    "\n",
    "dataloader = DataLoader(\n",
    "    dataset, num_workers=1, shuffle=False, collate_fn=collate_fn, batch_size=10\n",
    ")\n",
    "\n",
    "sample = next(iter(dataloader))\n",
    "display_sample(sample, \"data/voc.pth\")"
   ]
  }
 ],
 "metadata": {
  "kernelspec": {
   "display_name": "Python 3",
   "language": "python",
   "name": "python3"
  },
  "language_info": {
   "codemirror_mode": {
    "name": "ipython",
    "version": 3
   },
   "file_extension": ".py",
   "mimetype": "text/x-python",
   "name": "python",
   "nbconvert_exporter": "python",
   "pygments_lexer": "ipython3",
   "version": "3.6.13"
  }
 },
 "nbformat": 4,
 "nbformat_minor": 5
}
